{
 "cells": [
  {
   "cell_type": "code",
   "execution_count": 13,
   "metadata": {
    "scrolled": true
   },
   "outputs": [],
   "source": [
    "import requests\n",
    "import json\n",
    "\n",
    "data = json.load(open(\"./data_users/all_data.json\"))"
   ]
  },
  {
   "cell_type": "code",
   "execution_count": 14,
   "metadata": {},
   "outputs": [
    {
     "name": "stdout",
     "output_type": "stream",
     "text": [
      "4686\n"
     ]
    }
   ],
   "source": [
    "print(len(data))"
   ]
  },
  {
   "cell_type": "code",
   "execution_count": 29,
   "metadata": {},
   "outputs": [
    {
     "name": "stdout",
     "output_type": "stream",
     "text": [
      "(False, u'__borahae', u'https://scontent-sin2-2.cdninstagram.com/vp/f2567171a88d4b60ae036369f3e2b0d4/5DD39C96/t51.2885-15/sh0.08/e35/s640x640/62509561_2342374462756545_7104419672263912964_n.jpg?_nc_ht=scontent-sin2-2.cdninstagram.com', u'https://www.instagram.com/p/BzK6bzbF0PP/')\n"
     ]
    }
   ],
   "source": [
    "flag = False\n",
    "for user_name, posts in data.items():\n",
    "    if flag is True:\n",
    "        break\n",
    "    for post in posts:\n",
    "        if \"multi_imgs\" in post:\n",
    "            print(flag, user_name, post['img_src'], post[\"detail_link\"])\n",
    "            flag = True\n",
    "            break"
   ]
  },
  {
   "cell_type": "code",
   "execution_count": null,
   "metadata": {},
   "outputs": [],
   "source": [
    "import hashlib\n",
    "\n",
    "\n",
    "def get_face_res(img_url_md5):\n",
    "    face_api = \"http://gpu1:6064/age_gender_estimation\"\n",
    "    img_local_url = \"http://gpu2:2223/%s.jpg\" %(img_url_md5)\n",
    "    url = \"http://172.28.176.132:2222/images/\"+img_url_md5+\".jpg\"\n",
    "    img_resp = requests.get(url)\n",
    "    img = img_resp.content\n",
    "            \n",
    "    files = {\"image\": img}\n",
    "    res = requests.post(url, files=files).json()\n",
    "    return res\n",
    "    \n",
    "    \n",
    "id_face_res = {}\n",
    "for user_name, posts in data.items():\n",
    "    for post in posts:\n",
    "        if post[\"post_type\"] == \"single_img\":\n",
    "            m = hashlib.md5()\n",
    "            m.update(post['img_src'])\n",
    "            img_url_md5 = m.hexdigest()\n",
    "            res = get_face_res(img_url_md5)\n",
    "            id_face_res[img_url_md5] = res\n",
    "        elif post[\"post_type\"] == \"multi_imgs\":\n",
    "            "
   ]
  }
 ],
 "metadata": {
  "kernelspec": {
   "display_name": "Python 3",
   "language": "python",
   "name": "python3"
  },
  "language_info": {
   "codemirror_mode": {
    "name": "ipython",
    "version": 2
   },
   "file_extension": ".py",
   "mimetype": "text/x-python",
   "name": "python",
   "nbconvert_exporter": "python",
   "pygments_lexer": "ipython2",
   "version": "2.7.15"
  }
 },
 "nbformat": 4,
 "nbformat_minor": 2
}
